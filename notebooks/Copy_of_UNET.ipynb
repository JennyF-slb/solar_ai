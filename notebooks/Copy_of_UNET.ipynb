{
  "cells": [
    {
      "cell_type": "markdown",
      "metadata": {
        "id": "-kuIl4f6pBQ6"
      },
      "source": [
        "#UNET"
      ]
    },
    {
      "cell_type": "code",
      "execution_count": null,
      "metadata": {
        "id": "7PDQQt30MKsU"
      },
      "outputs": [],
      "source": [
        "# Import necessary libraries\n",
        "import tensorflow as tf\n",
        "from tensorflow.keras.models import Model\n",
        "from tensorflow.keras.layers import Input, Conv2D, MaxPooling2D, UpSampling2D, Concatenate\n",
        "\n",
        "# Define a UNet class\n",
        "class UNet:\n",
        "    # Initialize the class with an input shape\n",
        "    def __init__(self, input_shape=(28, 28, 1)):\n",
        "        self.input_shape = input_shape  # Save the input shape as a class variable\n",
        "        self.model = self.build_model()  # Call the build_model method to construct the U-Net\n",
        "\n",
        "    # Define the encoder part of the U-Net\n",
        "    def encoder(self, inputs):\n",
        "        # First conv block: apply a 2D convolution with 32 filters, (3,3) kernel size, ReLU activation and same padding,\n",
        "        # then apply 2D max pooling with (2,2) pool size\n",
        "        conv1 = Conv2D(32, (3, 3), activation='relu', padding='same')(inputs)\n",
        "        pool1 = MaxPooling2D(pool_size=(2, 2))(conv1)\n",
        "\n",
        "        # Second conv block: similar to the first one but with 64 filters\n",
        "        conv2 = Conv2D(64, (3, 3), activation='relu', padding='same')(pool1)\n",
        "        pool2 = MaxPooling2D(pool_size=(2, 2))(conv2)\n",
        "\n",
        "        # Return the outputs of the two conv blocks and the final pooled output\n",
        "        return conv1, conv2, pool2\n",
        "\n",
        "    # Define the decoder part of the U-Net\n",
        "    def decoder(self, conv1, conv2, encoded):\n",
        "        # First upscaling block: apply 2D upsampling with (2,2) size to the encoded input,\n",
        "        # concatenate the result with the output of the second conv block from the encoder,\n",
        "        # then apply a 2D convolution with 64 filters, (3,3) kernel size, ReLU activation and same padding\n",
        "        up1 = UpSampling2D(size=(2, 2))(encoded)\n",
        "        merge1 = Concatenate(axis=3)([conv2, up1])\n",
        "        conv3 = Conv2D(64, (3, 3), activation='relu', padding='same')(merge1)\n",
        "\n",
        "        # Second upscaling block: similar to the first one but concatenating with the output of the first conv block from the encoder and using 32 filters\n",
        "        up2 = UpSampling2D(size=(2, 2))(conv3)\n",
        "        merge2 = Concatenate(axis=3)([conv1, up2])\n",
        "        conv4 = Conv2D(32, (3, 3), activation='relu', padding='same')(merge2)\n",
        "\n",
        "        # Return the output of the second conv block\n",
        "        return conv4\n",
        "\n",
        "    # Build the complete U-Net model\n",
        "    def build_model(self):\n",
        "        # Define the input layer with the input shape\n",
        "        inputs = Input(self.input_shape)\n",
        "\n",
        "        # Call the encoder method and pass the inputs to it\n",
        "        conv1, conv2, encoded = self.encoder(inputs)\n",
        "\n",
        "        # Call the decoder method and pass the outputs of the encoder to it\n",
        "        decoded = self.decoder(conv1, conv2, encoded)\n",
        "\n",
        "        # Define the output layer: apply a 2D convolution with 1 filter (since this is a binary segmentation),\n",
        "        # (3,3) kernel size, sigmoid activation (to output probabilities) and same padding\n",
        "        outputs = Conv2D(1, (3, 3), activation='sigmoid', padding='same')(decoded)\n",
        "\n",
        "        # Return a Model object that includes the inputs and outputs\n",
        "        return Model(inputs=inputs, outputs=outputs)\n",
        "\n",
        "    # Compile the model\n",
        "    def compile(self, optimizer='adam', loss='binary_crossentropy'):\n",
        "        # Use the compile method of the Model class to compile the model.\n",
        "        # The optimizer controls the learning rate and the loss function calculates the difference between the\n",
        "        # model's predictions and the true values\n",
        "        self.model.compile(optimizer=optimizer, loss=loss)\n",
        "\n",
        "    # Train the model\n",
        "    def train(self, x, y, epochs=10, batch_size=128, validation_split=0.1):\n",
        "        # Use the fit method of the Model class to train the model.\n",
        "        # x is the input data, y is the target data, epochs is the number of times to iterate over the entire dataset,\n",
        "        # batch_size is the number of samples per gradient update, and validation_split fraction of the data to use as validation data.\n",
        "        self.model.fit(x, y, epochs=epochs, batch_size=batch_size, validation_split=validation_split)\n",
        "\n",
        "    # Use the model to make predictions\n",
        "    def predict(self, x):\n",
        "        # Use the predict method of the Model class to generate output predictions for the input samples.\n",
        "        return self.model.predict(x)\n"
      ]
    },
    {
      "cell_type": "code",
      "execution_count": null,
      "metadata": {
        "colab": {
          "base_uri": "https://localhost:8080/"
        },
        "id": "kvp5MfvlMPLm",
        "outputId": "a3c42c46-8481-4eb6-f2d1-4a0f84a0de0d"
      },
      "outputs": [
        {
          "output_type": "stream",
          "name": "stdout",
          "text": [
            "Downloading data from https://storage.googleapis.com/tensorflow/tf-keras-datasets/mnist.npz\n",
            "11490434/11490434 [==============================] - 0s 0us/step\n",
            "422/422 [==============================] - 19s 16ms/step - loss: 0.0503 - val_loss: 0.0261\n"
          ]
        }
      ],
      "source": [
        "from tensorflow.keras.datasets.mnist import load_data\n",
        "\n",
        "\n",
        "# Load MNIST dataset\n",
        "(train_images, train_labels), (test_images, test_labels) = load_data()\n",
        "\n",
        "# Normalize pixel values to be between 0 and 1\n",
        "train_images, test_images = train_images / 255.0, test_images / 255.0\n",
        "\n",
        "# Reshape the images to be (28, 28, 1)\n",
        "train_images = train_images.reshape((train_images.shape[0], 28, 28, 1))\n",
        "test_images = test_images.reshape((test_images.shape[0], 28, 28, 1))\n",
        "\n",
        "# Create binary masks for segmentation\n",
        "train_masks = (train_images > 0).astype(int)\n",
        "test_masks = (test_images > 0).astype(int)\n",
        "\n",
        "# Initialize and train the model\n",
        "unet = UNet()\n",
        "unet.compile()\n",
        "unet.train(train_images, train_masks, epochs=1)\n"
      ]
    },
    {
      "cell_type": "code",
      "execution_count": null,
      "metadata": {
        "colab": {
          "base_uri": "https://localhost:8080/",
          "height": 411
        },
        "id": "FCJMfGlM-cqD",
        "outputId": "de9ea1f7-1eaf-4712-a086-558089481071"
      },
      "outputs": [
        {
          "output_type": "display_data",
          "data": {
            "text/plain": [
              "<Figure size 1000x500 with 2 Axes>"
            ],
            "image/png": "[encoded data removed]"
          },
          "metadata": {}
        }
      ],
      "source": [
        "import matplotlib.pyplot as plt\n",
        "\n",
        "fig, axs = plt.subplots(1, 2, figsize=(10, 5))  # 1 row, 2 columns\n",
        "\n",
        "# Plot the first image\n",
        "axs[0].imshow(train_images[0])\n",
        "axs[0].set_title('Train Image')\n",
        "\n",
        "# Plot the second image\n",
        "axs[1].imshow(train_masks[0])\n",
        "axs[1].set_title('Train Mask')\n",
        "\n",
        "# Remove the x and y ticks\n",
        "for ax in axs:\n",
        "    ax.set_xticks([])\n",
        "    ax.set_yticks([])\n",
        "\n",
        "plt.show()\n"
      ]
    },
    {
      "cell_type": "code",
      "execution_count": null,
      "metadata": {
        "colab": {
          "base_uri": "https://localhost:8080/",
          "height": 428
        },
        "id": "3MUFFYonrf68",
        "outputId": "1bf46489-d7fc-4946-a35f-35aef08313ea"
      },
      "outputs": [
        {
          "output_type": "stream",
          "name": "stdout",
          "text": [
            "1/1 [==============================] - 0s 217ms/step\n"
          ]
        },
        {
          "output_type": "display_data",
          "data": {
            "text/plain": [
              "<Figure size 1000x500 with 2 Axes>"
            ],
            "image/png": "[encoded data removed]"
          },
          "metadata": {}
        }
      ],
      "source": [
        "import matplotlib.pyplot as plt\n",
        "\n",
        "fig, axs = plt.subplots(1, 2, figsize=(10, 5))  # 1 row, 2 columns\n",
        "\n",
        "# Plot the first image\n",
        "axs[0].imshow(test_images[0])\n",
        "axs[0].set_title('Test Image')\n",
        "\n",
        "# Plot the second image\n",
        "axs[1].imshow(unet.predict(test_images[0].reshape((1,28,28,1))).reshape((28,28,1)))\n",
        "axs[1].set_title('Predicted Mask')\n",
        "\n",
        "# Remove the x and y ticks\n",
        "for ax in axs:\n",
        "    ax.set_xticks([])\n",
        "    ax.set_yticks([])\n",
        "\n",
        "plt.show()\n"
      ]
    },
    {
      "cell_type": "markdown",
      "metadata": {
        "id": "U8AViHPZuTbB"
      },
      "source": [
        "#FAKE MULTICLASS UNET"
      ]
    },
    {
      "cell_type": "code",
      "execution_count": null,
      "metadata": {
        "id": "BhtGJcGv7tSy"
      },
      "outputs": [],
      "source": [
        "def mask_to_rgb(mask):\n",
        "    color_map = np.array([\n",
        "        [0, 0, 255],    # Blue for digit 0\n",
        "        [0, 255, 0],    # Green for digit 1\n",
        "        [255, 0, 0],    # Red for digit 2\n",
        "        [0, 255, 255],  # Cyan for digit 3\n",
        "        [255, 0, 255],  # Magenta for digit 4\n",
        "        [255, 255, 0],  # Yellow for digit 5\n",
        "        [128, 0, 0],    # Maroon for digit 6\n",
        "        [0, 128, 0],    # Dark Green for digit 7\n",
        "        [0, 0, 128],    # Navy for digit 8\n",
        "        [128, 128, 128],# Grey for digit 9\n",
        "        [255, 255, 255],# White for background\n",
        "        [0, 0, 0]       # Black for intersection\n",
        "    ]) / 255\n",
        "    return (mask @ color_map).clip(0, 1)\n"
      ]
    },
    {
      "cell_type": "code",
      "execution_count": null,
      "metadata": {
        "id": "Bdk0uu3nj3WM"
      },
      "outputs": [],
      "source": [
        "import matplotlib.pyplot as plt\n",
        "from tensorflow.keras.datasets import mnist\n",
        "import numpy as np\n",
        "\n",
        "# Load MNIST data\n",
        "(x_train, y_train), (x_test, y_test) = mnist.load_data()\n",
        "\n",
        "# Normalize the images to [0, 1]\n",
        "x_train = x_train.astype('float32') / 255\n",
        "x_test = x_test.astype('float32') / 255\n",
        "\n",
        "# Reshape the images to (28, 28, 1)\n",
        "x_train = np.expand_dims(x_train, axis=-1)\n",
        "x_test = np.expand_dims(x_test, axis=-1)\n",
        "\n",
        "# Create a new dataset for multi-digit images\n",
        "x_train_multi = np.zeros((x_train.shape[0]//2, 28, 28, 1))\n",
        "x_test_multi = np.zeros((x_test.shape[0]//2, 28, 28, 1))\n",
        "\n",
        "# Overlay images of digits on top of each other\n",
        "for i in range(x_train.shape[0]//2):\n",
        "    x_train_multi[i] = np.maximum(x_train[2*i], x_train[2*i+1])\n",
        "\n",
        "for i in range(x_test.shape[0]//2):\n",
        "    x_test_multi[i] = np.maximum(x_test[2*i], x_test[2*i+1])\n",
        "\n",
        "# Create a new target dataset for multi-digit masks\n",
        "y_train_multi = np.zeros((y_train.shape[0]//2, 28, 28, 12))\n",
        "y_test_multi = np.zeros((y_test.shape[0]//2, 28, 28, 12))\n",
        "\n",
        "# Create masks for each digit and background\n",
        "for i in range(y_train.shape[0]//2):\n",
        "    y_train_multi[i, ..., y_train[2*i]] = np.where(x_train[2*i] > 0, 1, 0).squeeze()\n",
        "    y_train_multi[i, ..., y_train[2*i+1]] = np.where(x_train[2*i+1] > 0, 1, 0).squeeze()\n",
        "    y_train_multi[i, ..., 10] = np.where(x_train_multi[i] == 0, 1, 0).squeeze() # background mask\n",
        "\n",
        "for i in range(y_test.shape[0]//2):\n",
        "    y_test_multi[i, ..., y_test[2*i]] = np.where(x_test[2*i] > 0, 1, 0).squeeze()\n",
        "    y_test_multi[i, ..., y_test[2*i+1]] = np.where(x_test[2*i+1] > 0, 1, 0).squeeze()\n",
        "    y_test_multi[i, ..., 10] = np.where(x_test_multi[i] == 0, 1, 0).squeeze() # background mask\n",
        "\n",
        "# Create interception mask class\n",
        "intersection_mask_train = (y_train_multi[..., :10].sum(axis=-1) > 1).astype(int)\n",
        "intersection_mask_test = (y_test_multi[..., :10].sum(axis=-1) > 1).astype(int)\n",
        "\n",
        "# Where there's intersection, set all digit classes to 0\n",
        "y_train_multi[..., :10] = y_train_multi[..., :10] * (1 - np.expand_dims(intersection_mask_train, axis=-1))\n",
        "y_test_multi[..., :10] = y_test_multi[..., :10] * (1 - np.expand_dims(intersection_mask_test, axis=-1))\n",
        "\n",
        "# Set the intersection class\n",
        "y_train_multi[..., 11] = intersection_mask_train\n",
        "y_test_multi[..., 11] = intersection_mask_test\n",
        "\n",
        "# Create a new target dataset for digit vs background masks\n",
        "y_train_binary = np.zeros((y_train.shape[0]//4, 28, 28, 12))\n",
        "y_test_binary = np.zeros((y_test.shape[0]//4, 28, 28, 12))\n",
        "\n",
        "# Create binary masks for digits and background\n",
        "for i in range(y_train.shape[0]//4):\n",
        "    y_train_binary[i, ..., y_train[i]] = np.where(x_train[i] > 0, 1, 0).squeeze()  # digit mask\n",
        "    y_train_binary[i, ..., 10] = np.where(x_train[i] == 0, 1, 0).squeeze()  # background mask\n",
        "\n",
        "for i in range(y_test.shape[0]//4):\n",
        "    y_test_binary[i, ..., y_test[i]] = np.where(x_test[i] > 0, 1, 0).squeeze()  # digit mask\n",
        "    y_test_binary[i, ..., 10] = np.where(x_test[i] == 0, 1, 0).squeeze()  # background mask\n",
        "\n",
        "\n",
        "# Now combine the binary and multi-digit masks\n",
        "y_train_combined = np.concatenate([y_train_binary, y_train_multi], axis=0)\n",
        "y_test_combined = np.concatenate([y_test_binary, y_test_multi], axis=0)\n",
        "\n",
        "# Create datasets for binary digit images\n",
        "x_train_binary = x_train[:x_train.shape[0]//4]\n",
        "x_test_binary = x_test[:x_test.shape[0]//4]\n",
        "\n",
        "# Do the same for the images\n",
        "x_train_combined = np.concatenate([x_train_binary, x_train_multi], axis=0)\n",
        "x_test_combined = np.concatenate([x_test_binary, x_test_multi], axis=0)\n",
        "\n"
      ]
    },
    {
      "cell_type": "code",
      "execution_count": null,
      "metadata": {
        "colab": {
          "base_uri": "https://localhost:8080/",
          "height": 411
        },
        "id": "8gJsCG4RmVpr",
        "outputId": "5cc9cbd8-3081-4996-cd53-8a07908a1722"
      },
      "outputs": [
        {
          "output_type": "display_data",
          "data": {
            "text/plain": [
              "<Figure size 1000x500 with 2 Axes>"
            ],
            "image/png": "[encoded data removed]"
          },
          "metadata": {}
        }
      ],
      "source": [
        "import matplotlib.pyplot as plt\n",
        "\n",
        "fig, axs = plt.subplots(1, 2, figsize=(10, 5))  # 1 row, 2 columns\n",
        "\n",
        "picture = 43000\n",
        "\n",
        "# Plot the first image\n",
        "axs[0].imshow(x_train_combined[picture])\n",
        "axs[0].set_title('Train Image')\n",
        "\n",
        "# Plot the second image\n",
        "axs[1].imshow(mask_to_rgb(y_train_combined[picture]))\n",
        "axs[1].set_title('Train Mask')\n",
        "\n",
        "# Remove the x and y ticks\n",
        "for ax in axs:\n",
        "    ax.set_xticks([])\n",
        "    ax.set_yticks([])\n",
        "\n",
        "plt.show()"
      ]
    },
    {
      "cell_type": "code",
      "execution_count": null,
      "metadata": {
        "id": "bK1b8z3Se7rH"
      },
      "outputs": [],
      "source": [
        "from tensorflow.keras.layers import Dropout, BatchNormalization\n",
        "from tensorflow.keras.callbacks import ReduceLROnPlateau\n",
        "from tensorflow.keras.optimizers import Adam\n",
        "\n",
        "\n",
        "class UNet:\n",
        "    def __init__(self, input_shape=(28, 28, 1), num_classes=12):\n",
        "        self.input_shape = input_shape\n",
        "        self.num_classes = num_classes\n",
        "        self.model = self.build_model()\n",
        "\n",
        "    def encoder(self, inputs):\n",
        "        conv1 = Conv2D(64, (3, 3), activation='relu', padding='same')(inputs)\n",
        "        conv1 = BatchNormalization()(conv1)\n",
        "        conv1 = Dropout(0.1)(conv1)\n",
        "        pool1 = MaxPooling2D(pool_size=(2, 2))(conv1)\n",
        "\n",
        "        conv2 = Conv2D(128, (3, 3), activation='relu', padding='same')(pool1)\n",
        "        conv2 = BatchNormalization()(conv2)\n",
        "        conv2 = Dropout(0.1)(conv2)\n",
        "        pool2 = MaxPooling2D(pool_size=(2, 2))(conv2)\n",
        "\n",
        "        return conv1, conv2, pool2\n",
        "\n",
        "    def decoder(self, conv1, conv2, encoded):\n",
        "        up1 = UpSampling2D(size=(2, 2))(encoded)\n",
        "        merge1 = Concatenate(axis=3)([conv2, up1])\n",
        "        conv3 = Conv2D(128, (3, 3), activation='relu', padding='same')(merge1)\n",
        "        conv3 = BatchNormalization()(conv3)\n",
        "        conv3 = Dropout(0.1)(conv3)\n",
        "\n",
        "        up2 = UpSampling2D(size=(2, 2))(conv3)\n",
        "        merge2 = Concatenate(axis=3)([conv1, up2])\n",
        "        conv4 = Conv2D(64, (3, 3), activation='relu', padding='same')(merge2)\n",
        "        conv4 = BatchNormalization()(conv4)\n",
        "        conv4 = Dropout(0.1)(conv4)\n",
        "\n",
        "        return conv4\n",
        "\n",
        "    def build_model(self):\n",
        "        inputs = Input(self.input_shape)\n",
        "        conv1, conv2, encoded = self.encoder(inputs)\n",
        "        decoded = self.decoder(conv1, conv2, encoded)\n",
        "        outputs = Conv2D(self.num_classes, (1, 1), activation='softmax')(decoded)\n",
        "        return Model(inputs=inputs, outputs=outputs)\n",
        "\n",
        "    def compile(self, optimizer='adam'):\n",
        "        self.model.compile(optimizer=optimizer, loss='categorical_crossentropy', metrics=['accuracy'])\n",
        "\n",
        "    def train(self, x, y, epochs=1, batch_size=32, validation_split=0.1):\n",
        "        self.model.compile(optimizer=Adam(learning_rate=0.0001), loss='categorical_crossentropy', metrics=['accuracy'])\n",
        "        lr_reducer = ReduceLROnPlateau(monitor='val_loss', factor=0.1, patience=5, min_lr=0.00001, verbose=1)\n",
        "        self.model.fit(x, y, epochs=epochs, batch_size=batch_size, validation_split=validation_split, callbacks=[lr_reducer])\n",
        "\n",
        "    def predict(self, x):\n",
        "        return self.model.predict(x)\n"
      ]
    },
    {
      "cell_type": "code",
      "execution_count": null,
      "metadata": {
        "colab": {
          "base_uri": "https://localhost:8080/"
        },
        "id": "1enBwyPx99Kh",
        "outputId": "70e13cfb-1555-465a-cc6b-8b59bca4f837"
      },
      "outputs": [
        {
          "output_type": "stream",
          "name": "stdout",
          "text": [
            "Epoch 1/60\n",
            "159/159 [==============================] - 20s 96ms/step - loss: 1.0976 - accuracy: 0.7275 - val_loss: 0.9125 - val_accuracy: 0.7745 - lr: 1.0000e-04\n",
            "Epoch 2/60\n",
            "159/159 [==============================] - 14s 88ms/step - loss: 0.6862 - accuracy: 0.8035 - val_loss: 0.8211 - val_accuracy: 0.7393 - lr: 1.0000e-04\n",
            "Epoch 3/60\n",
            "159/159 [==============================] - 14s 89ms/step - loss: 0.5738 - accuracy: 0.8227 - val_loss: 0.7226 - val_accuracy: 0.7510 - lr: 1.0000e-04\n",
            "Epoch 4/60\n",
            "159/159 [==============================] - 14s 88ms/step - loss: 0.5082 - accuracy: 0.8379 - val_loss: 0.5253 - val_accuracy: 0.8271 - lr: 1.0000e-04\n",
            "Epoch 5/60\n",
            "159/159 [==============================] - 14s 88ms/step - loss: 0.4624 - accuracy: 0.8498 - val_loss: 0.4567 - val_accuracy: 0.8458 - lr: 1.0000e-04\n",
            "Epoch 6/60\n",
            "159/159 [==============================] - 14s 87ms/step - loss: 0.4296 - accuracy: 0.8587 - val_loss: 0.4318 - val_accuracy: 0.8513 - lr: 1.0000e-04\n",
            "Epoch 7/60\n",
            "159/159 [==============================] - 14s 88ms/step - loss: 0.4043 - accuracy: 0.8656 - val_loss: 0.4134 - val_accuracy: 0.8562 - lr: 1.0000e-04\n",
            "Epoch 8/60\n",
            "159/159 [==============================] - 14s 88ms/step - loss: 0.3848 - accuracy: 0.8710 - val_loss: 0.4007 - val_accuracy: 0.8599 - lr: 1.0000e-04\n",
            "Epoch 9/60\n",
            "159/159 [==============================] - 14s 88ms/step - loss: 0.3688 - accuracy: 0.8754 - val_loss: 0.3836 - val_accuracy: 0.8650 - lr: 1.0000e-04\n",
            "Epoch 10/60\n",
            "159/159 [==============================] - 14s 88ms/step - loss: 0.3560 - accuracy: 0.8790 - val_loss: 0.3789 - val_accuracy: 0.8656 - lr: 1.0000e-04\n",
            "Epoch 11/60\n",
            "159/159 [==============================] - 14s 88ms/step - loss: 0.3448 - accuracy: 0.8822 - val_loss: 0.3713 - val_accuracy: 0.8686 - lr: 1.0000e-04\n",
            "Epoch 12/60\n",
            "159/159 [==============================] - 14s 88ms/step - loss: 0.3349 - accuracy: 0.8849 - val_loss: 0.3648 - val_accuracy: 0.8698 - lr: 1.0000e-04\n",
            "Epoch 13/60\n",
            "159/159 [==============================] - 14s 88ms/step - loss: 0.3266 - accuracy: 0.8874 - val_loss: 0.3578 - val_accuracy: 0.8723 - lr: 1.0000e-04\n",
            "Epoch 14/60\n",
            "159/159 [==============================] - 14s 88ms/step - loss: 0.3187 - accuracy: 0.8897 - val_loss: 0.3454 - val_accuracy: 0.8753 - lr: 1.0000e-04\n",
            "Epoch 15/60\n",
            "159/159 [==============================] - 14s 88ms/step - loss: 0.3120 - accuracy: 0.8916 - val_loss: 0.3368 - val_accuracy: 0.8778 - lr: 1.0000e-04\n",
            "Epoch 16/60\n",
            "159/159 [==============================] - 14s 88ms/step - loss: 0.3054 - accuracy: 0.8935 - val_loss: 0.3396 - val_accuracy: 0.8766 - lr: 1.0000e-04\n",
            "Epoch 17/60\n",
            "159/159 [==============================] - 14s 88ms/step - loss: 0.3002 - accuracy: 0.8951 - val_loss: 0.3317 - val_accuracy: 0.8791 - lr: 1.0000e-04\n",
            "Epoch 18/60\n",
            "159/159 [==============================] - 14s 88ms/step - loss: 0.2947 - accuracy: 0.8966 - val_loss: 0.3226 - val_accuracy: 0.8821 - lr: 1.0000e-04\n",
            "Epoch 19/60\n",
            "159/159 [==============================] - 14s 88ms/step - loss: 0.2896 - accuracy: 0.8981 - val_loss: 0.3244 - val_accuracy: 0.8814 - lr: 1.0000e-04\n",
            "Epoch 20/60\n",
            "159/159 [==============================] - 14s 88ms/step - loss: 0.2854 - accuracy: 0.8994 - val_loss: 0.3140 - val_accuracy: 0.8846 - lr: 1.0000e-04\n",
            "Epoch 21/60\n",
            "159/159 [==============================] - 14s 88ms/step - loss: 0.2811 - accuracy: 0.9007 - val_loss: 0.3112 - val_accuracy: 0.8857 - lr: 1.0000e-04\n",
            "Epoch 22/60\n",
            "159/159 [==============================] - 14s 88ms/step - loss: 0.2773 - accuracy: 0.9018 - val_loss: 0.3115 - val_accuracy: 0.8855 - lr: 1.0000e-04\n",
            "Epoch 23/60\n",
            "159/159 [==============================] - 14s 88ms/step - loss: 0.2736 - accuracy: 0.9030 - val_loss: 0.3059 - val_accuracy: 0.8872 - lr: 1.0000e-04\n",
            "Epoch 24/60\n",
            "159/159 [==============================] - 14s 88ms/step - loss: 0.2698 - accuracy: 0.9041 - val_loss: 0.3066 - val_accuracy: 0.8870 - lr: 1.0000e-04\n",
            "Epoch 25/60\n",
            "159/159 [==============================] - 14s 88ms/step - loss: 0.2668 - accuracy: 0.9049 - val_loss: 0.3000 - val_accuracy: 0.8891 - lr: 1.0000e-04\n",
            "Epoch 26/60\n",
            "159/159 [==============================] - 14s 88ms/step - loss: 0.2638 - accuracy: 0.9058 - val_loss: 0.3036 - val_accuracy: 0.8877 - lr: 1.0000e-04\n",
            "Epoch 27/60\n",
            "159/159 [==============================] - 14s 88ms/step - loss: 0.2608 - accuracy: 0.9068 - val_loss: 0.2968 - val_accuracy: 0.8900 - lr: 1.0000e-04\n",
            "Epoch 28/60\n",
            "159/159 [==============================] - 14s 88ms/step - loss: 0.2582 - accuracy: 0.9075 - val_loss: 0.2960 - val_accuracy: 0.8902 - lr: 1.0000e-04\n",
            "Epoch 29/60\n",
            "159/159 [==============================] - 14s 88ms/step - loss: 0.2559 - accuracy: 0.9082 - val_loss: 0.2934 - val_accuracy: 0.8908 - lr: 1.0000e-04\n",
            "Epoch 30/60\n",
            "159/159 [==============================] - 14s 89ms/step - loss: 0.2534 - accuracy: 0.9089 - val_loss: 0.2899 - val_accuracy: 0.8923 - lr: 1.0000e-04\n",
            "Epoch 31/60\n",
            "159/159 [==============================] - 14s 88ms/step - loss: 0.2512 - accuracy: 0.9095 - val_loss: 0.2886 - val_accuracy: 0.8927 - lr: 1.0000e-04\n",
            "Epoch 32/60\n",
            "159/159 [==============================] - 14s 88ms/step - loss: 0.2491 - accuracy: 0.9102 - val_loss: 0.2865 - val_accuracy: 0.8932 - lr: 1.0000e-04\n",
            "Epoch 33/60\n",
            "159/159 [==============================] - 14s 88ms/step - loss: 0.2471 - accuracy: 0.9108 - val_loss: 0.2854 - val_accuracy: 0.8934 - lr: 1.0000e-04\n",
            "Epoch 34/60\n",
            "159/159 [==============================] - 14s 88ms/step - loss: 0.2451 - accuracy: 0.9114 - val_loss: 0.2839 - val_accuracy: 0.8941 - lr: 1.0000e-04\n",
            "Epoch 35/60\n",
            "159/159 [==============================] - 14s 88ms/step - loss: 0.2432 - accuracy: 0.9119 - val_loss: 0.2812 - val_accuracy: 0.8947 - lr: 1.0000e-04\n",
            "Epoch 36/60\n",
            "159/159 [==============================] - 14s 88ms/step - loss: 0.2421 - accuracy: 0.9123 - val_loss: 0.2823 - val_accuracy: 0.8941 - lr: 1.0000e-04\n",
            "Epoch 37/60\n",
            "159/159 [==============================] - 14s 88ms/step - loss: 0.2404 - accuracy: 0.9129 - val_loss: 0.2811 - val_accuracy: 0.8945 - lr: 1.0000e-04\n",
            "Epoch 38/60\n",
            "159/159 [==============================] - 14s 88ms/step - loss: 0.2392 - accuracy: 0.9133 - val_loss: 0.2765 - val_accuracy: 0.8960 - lr: 1.0000e-04\n",
            "Epoch 39/60\n",
            "159/159 [==============================] - 14s 88ms/step - loss: 0.2380 - accuracy: 0.9136 - val_loss: 0.2784 - val_accuracy: 0.8952 - lr: 1.0000e-04\n",
            "Epoch 40/60\n",
            "159/159 [==============================] - 14s 88ms/step - loss: 0.2369 - accuracy: 0.9140 - val_loss: 0.2806 - val_accuracy: 0.8949 - lr: 1.0000e-04\n",
            "Epoch 41/60\n",
            "159/159 [==============================] - 14s 88ms/step - loss: 0.2360 - accuracy: 0.9143 - val_loss: 0.2770 - val_accuracy: 0.8959 - lr: 1.0000e-04\n",
            "Epoch 42/60\n",
            "159/159 [==============================] - 14s 88ms/step - loss: 0.2355 - accuracy: 0.9145 - val_loss: 0.2760 - val_accuracy: 0.8961 - lr: 1.0000e-04\n",
            "Epoch 43/60\n",
            "159/159 [==============================] - 14s 88ms/step - loss: 0.2345 - accuracy: 0.9148 - val_loss: 0.2741 - val_accuracy: 0.8968 - lr: 1.0000e-04\n",
            "Epoch 44/60\n",
            "159/159 [==============================] - 14s 88ms/step - loss: 0.2339 - accuracy: 0.9151 - val_loss: 0.2736 - val_accuracy: 0.8967 - lr: 1.0000e-04\n",
            "Epoch 45/60\n",
            "159/159 [==============================] - 14s 88ms/step - loss: 0.2340 - accuracy: 0.9150 - val_loss: 0.2734 - val_accuracy: 0.8970 - lr: 1.0000e-04\n",
            "Epoch 46/60\n",
            "159/159 [==============================] - 14s 88ms/step - loss: 0.2334 - accuracy: 0.9152 - val_loss: 0.2767 - val_accuracy: 0.8960 - lr: 1.0000e-04\n",
            "Epoch 47/60\n",
            "159/159 [==============================] - 14s 88ms/step - loss: 0.2331 - accuracy: 0.9153 - val_loss: 0.2745 - val_accuracy: 0.8966 - lr: 1.0000e-04\n",
            "Epoch 48/60\n",
            "159/159 [==============================] - 14s 88ms/step - loss: 0.2331 - accuracy: 0.9155 - val_loss: 0.2716 - val_accuracy: 0.8974 - lr: 1.0000e-04\n",
            "Epoch 49/60\n",
            "159/159 [==============================] - 14s 88ms/step - loss: 0.2336 - accuracy: 0.9154 - val_loss: 0.2727 - val_accuracy: 0.8969 - lr: 1.0000e-04\n",
            "Epoch 50/60\n",
            "159/159 [==============================] - 14s 88ms/step - loss: 0.2333 - accuracy: 0.9156 - val_loss: 0.2745 - val_accuracy: 0.8966 - lr: 1.0000e-04\n",
            "Epoch 51/60\n",
            "159/159 [==============================] - 14s 88ms/step - loss: 0.2337 - accuracy: 0.9156 - val_loss: 0.2738 - val_accuracy: 0.8969 - lr: 1.0000e-04\n",
            "Epoch 52/60\n",
            "159/159 [==============================] - 14s 88ms/step - loss: 0.2343 - accuracy: 0.9154 - val_loss: 0.2728 - val_accuracy: 0.8971 - lr: 1.0000e-04\n",
            "Epoch 53/60\n",
            "158/159 [============================>.] - ETA: 0s - loss: 0.2343 - accuracy: 0.9155\n",
            "Epoch 53: ReduceLROnPlateau reducing learning rate to 1e-05.\n",
            "159/159 [==============================] - 14s 88ms/step - loss: 0.2343 - accuracy: 0.9155 - val_loss: 0.2716 - val_accuracy: 0.8974 - lr: 1.0000e-04\n",
            "Epoch 54/60\n",
            "159/159 [==============================] - 14s 88ms/step - loss: 0.2322 - accuracy: 0.9163 - val_loss: 0.2687 - val_accuracy: 0.8986 - lr: 1.0000e-05\n",
            "Epoch 55/60\n",
            "159/159 [==============================] - 14s 88ms/step - loss: 0.2316 - accuracy: 0.9164 - val_loss: 0.2675 - val_accuracy: 0.8990 - lr: 1.0000e-05\n",
            "Epoch 56/60\n",
            "159/159 [==============================] - 14s 88ms/step - loss: 0.2314 - accuracy: 0.9165 - val_loss: 0.2669 - val_accuracy: 0.8993 - lr: 1.0000e-05\n",
            "Epoch 57/60\n",
            "159/159 [==============================] - 14s 88ms/step - loss: 0.2314 - accuracy: 0.9165 - val_loss: 0.2668 - val_accuracy: 0.8992 - lr: 1.0000e-05\n",
            "Epoch 58/60\n",
            "159/159 [==============================] - 14s 88ms/step - loss: 0.2313 - accuracy: 0.9165 - val_loss: 0.2675 - val_accuracy: 0.8990 - lr: 1.0000e-05\n",
            "Epoch 59/60\n",
            "159/159 [==============================] - 14s 88ms/step - loss: 0.2312 - accuracy: 0.9165 - val_loss: 0.2674 - val_accuracy: 0.8991 - lr: 1.0000e-05\n",
            "Epoch 60/60\n",
            "159/159 [==============================] - 14s 88ms/step - loss: 0.2315 - accuracy: 0.9165 - val_loss: 0.2673 - val_accuracy: 0.8990 - lr: 1.0000e-05\n"
          ]
        }
      ],
      "source": [
        "# Initialize U-Net model\n",
        "unet = UNet(input_shape=(28, 28, 1), num_classes=12)\n",
        "\n",
        "# Compile the model\n",
        "unet.compile(optimizer='adam')\n",
        "\n",
        "# Train the model\n",
        "unet.train(x_train_combined, y_train_combined, epochs=60, batch_size=256)\n"
      ]
    },
    {
      "cell_type": "code",
      "execution_count": null,
      "metadata": {
        "colab": {
          "base_uri": "https://localhost:8080/"
        },
        "id": "gtZvxf9sD7Kw",
        "outputId": "7f09a768-1bd6-4494-f465-5f3376e1bd50"
      },
      "outputs": [
        {
          "output_type": "display_data",
          "data": {
            "text/plain": [
              "<Figure size 1000x500 with 2 Axes>"
            ],
            "image/png": "[encoded data removed]"
          },
          "metadata": {}
        }
      ],
      "source": [
        "import matplotlib.pyplot as plt\n",
        "\n",
        "fig, axs = plt.subplots(1, 2, figsize=(10, 5))  # 1 row, 2 columns\n",
        "\n",
        "# Plot the first image\n",
        "axs[0].imshow(x_train_multi[0])\n",
        "axs[0].set_title('Train Image')\n",
        "\n",
        "# Plot the second image\n",
        "axs[1].imshow(mask_to_rgb(y_train_multi[0]))\n",
        "axs[1].set_title('Train Mask')\n",
        "\n",
        "# Remove the x and y ticks\n",
        "for ax in axs:\n",
        "    ax.set_xticks([])\n",
        "    ax.set_yticks([])\n",
        "\n",
        "plt.show()"
      ]
    },
    {
      "cell_type": "code",
      "execution_count": null,
      "metadata": {
        "colab": {
          "base_uri": "https://localhost:8080/"
        },
        "id": "GLbp38qh8HzH",
        "outputId": "3a68cef4-353b-4ca4-c778-6697a8ada3c1"
      },
      "outputs": [
        {
          "output_type": "execute_result",
          "data": {
            "text/plain": [
              "(7500, 28, 28, 1)"
            ]
          },
          "metadata": {},
          "execution_count": 11
        }
      ],
      "source": [
        "x_test_combined.shape"
      ]
    },
    {
      "cell_type": "code",
      "execution_count": null,
      "metadata": {
        "colab": {
          "base_uri": "https://localhost:8080/"
        },
        "id": "xc3tstmGESHs",
        "outputId": "194ed1dc-914f-4ca5-c99e-3b79a88debba"
      },
      "outputs": [
        {
          "output_type": "stream",
          "name": "stdout",
          "text": [
            "1/1 [==============================] - 0s 214ms/step\n"
          ]
        },
        {
          "output_type": "display_data",
          "data": {
            "text/plain": [
              "<Figure size 1000x500 with 3 Axes>"
            ],
            "image/png": "[encoded data removed]"
          },
          "metadata": {}
        }
      ],
      "source": [
        "import matplotlib.pyplot as plt\n",
        "\n",
        "test_picture = 3003\n",
        "\n",
        "fig, axs = plt.subplots(1, 3, figsize=(10, 5))  # 1 row, 2 columns\n",
        "\n",
        "# Plot the first image\n",
        "axs[0].imshow(x_test_combined[test_picture])\n",
        "axs[0].set_title('Test Image')\n",
        "\n",
        "# Plot the second image\n",
        "axs[1].imshow(mask_to_rgb(y_test_combined[test_picture]))\n",
        "axs[1].set_title('Test Mask')\n",
        "\n",
        "# Plot the second image\n",
        "axs[2].imshow(mask_to_rgb(unet.predict(x_test_combined[test_picture].reshape((1,28,28,1)))).reshape((28,28,3)))\n",
        "axs[2].set_title('Predicted Mask')\n",
        "\n",
        "# Remove the x and y ticks\n",
        "for ax in axs:\n",
        "    ax.set_xticks([])\n",
        "    ax.set_yticks([])\n",
        "\n",
        "plt.show()"
      ]
    },
    {
      "cell_type": "code",
      "execution_count": null,
      "metadata": {
        "colab": {
          "base_uri": "https://localhost:8080/"
        },
        "id": "zAyGgl7U5hGc",
        "outputId": "04a8ec53-f939-4f98-dca5-7e26f4f06407"
      },
      "outputs": [
        {
          "output_type": "stream",
          "name": "stdout",
          "text": [
            "1/1 [==============================] - 0s 19ms/step\n",
            "1/1 [==============================] - 0s 18ms/step\n",
            "1/1 [==============================] - 0s 18ms/step\n",
            "1/1 [==============================] - 0s 19ms/step\n",
            "1/1 [==============================] - 0s 20ms/step\n",
            "1/1 [==============================] - 0s 20ms/step\n",
            "1/1 [==============================] - 0s 20ms/step\n"
          ]
        },
        {
          "output_type": "display_data",
          "data": {
            "text/plain": [
              "<Figure size 2000x1000 with 21 Axes>"
            ],
            "image/png": "[encoded data removed]"
          },
          "metadata": {}
        }
      ],
      "source": [
        "fig, axs = plt.subplots(3, 7, figsize=(20, 10))  # 3 rows, 7 columns\n",
        "\n",
        "test_pictures = np.random.choice(x_test_combined.shape[0], 7, replace=False)\n",
        "\n",
        "for i, test_picture in enumerate(test_pictures):\n",
        "    # Plot the test image\n",
        "    axs[0, i].imshow(x_test_combined[test_picture])\n",
        "    axs[0, i].set_title('Test Image')\n",
        "\n",
        "    # Plot the test mask\n",
        "    axs[1, i].imshow(mask_to_rgb(y_test_combined[test_picture]))\n",
        "    axs[1, i].set_title('Test Mask')\n",
        "\n",
        "    # Plot the predicted mask\n",
        "    prediction = unet.predict(x_test_combined[test_picture].reshape((1,28,28,1)))\n",
        "    axs[2, i].imshow(mask_to_rgb(prediction).reshape((28,28,3)))\n",
        "    axs[2, i].set_title('Predicted Mask')\n",
        "\n",
        "# Remove the x and y ticks\n",
        "for i in range(3):\n",
        "    for j in range(7):\n",
        "        axs[i, j].set_xticks([])\n",
        "        axs[i, j].set_yticks([])\n",
        "\n",
        "plt.tight_layout()\n",
        "plt.show()\n"
      ]
    },
    {
      "cell_type": "markdown",
      "metadata": {
        "id": "bA1C6pktuQAv"
      },
      "source": [
        "#BIGGER UNET"
      ]
    },
    {
      "cell_type": "code",
      "execution_count": null,
      "metadata": {
        "id": "7yqHXkvhMVcF"
      },
      "outputs": [],
      "source": [
        "import tensorflow as tf\n",
        "from tensorflow.keras.models import Model\n",
        "from tensorflow.keras.layers import Input, Conv2D, MaxPooling2D, UpSampling2D, Concatenate, Dropout\n",
        "\n",
        "class UNet:\n",
        "    def __init__(self, input_shape=(256, 256, 1)):\n",
        "        self.input_shape = input_shape\n",
        "        self.model = self.build_model()\n",
        "\n",
        "    def encoder(self, inputs):\n",
        "        # First conv block\n",
        "        conv1 = Conv2D(64, (3, 3), activation='relu', padding='same')(inputs)\n",
        "        conv1 = Dropout(0.1)(conv1)\n",
        "        pool1 = MaxPooling2D(pool_size=(2, 2))(conv1)\n",
        "\n",
        "        # Second conv block\n",
        "        conv2 = Conv2D(128, (3, 3), activation='relu', padding='same')(pool1)\n",
        "        conv2 = Dropout(0.1)(conv2)\n",
        "        pool2 = MaxPooling2D(pool_size=(2, 2))(conv2)\n",
        "\n",
        "        # Third conv block\n",
        "        conv3 = Conv2D(256, (3, 3), activation='relu', padding='same')(pool2)\n",
        "        conv3 = Dropout(0.2)(conv3)\n",
        "        pool3 = MaxPooling2D(pool_size=(2, 2))(conv3)\n",
        "\n",
        "        # Fourth conv block\n",
        "        conv4 = Conv2D(512, (3, 3), activation='relu', padding='same')(pool3)\n",
        "        conv4 = Dropout(0.2)(conv4)\n",
        "        pool4 = MaxPooling2D(pool_size=(2, 2))(conv4)\n",
        "\n",
        "        return conv1, conv2, conv3, conv4, pool4\n",
        "\n",
        "    def decoder(self, conv1, conv2, conv3, conv4, encoded):\n",
        "        # First upscaling block\n",
        "        up1 = UpSampling2D(size=(2, 2))(encoded)\n",
        "        merge1 = Concatenate(axis=3)([conv4, up1])\n",
        "        conv5 = Conv2D(512, (3, 3), activation='relu', padding='same')(merge1)\n",
        "\n",
        "        # Second upscaling block\n",
        "        up2 = UpSampling2D(size=(2, 2))(conv5)\n",
        "        merge2 = Concatenate(axis=3)([conv3, up2])\n",
        "        conv6 = Conv2D(256, (3, 3), activation='relu', padding='same')(merge2)\n",
        "\n",
        "        # Third upscaling block\n",
        "        up3 = UpSampling2D(size=(2, 2))(conv6)\n",
        "        merge3 = Concatenate(axis=3)([conv2, up3])\n",
        "        conv7 = Conv2D(128, (3, 3), activation='relu', padding='same')(merge3)\n",
        "\n",
        "        # Fourth upscaling block\n",
        "        up4 = UpSampling2D(size=(2, 2))(conv7)\n",
        "        merge4 = Concatenate(axis=3)([conv1, up4])\n",
        "        conv8 = Conv2D(64, (3, 3), activation='relu', padding='same')(merge4)\n",
        "\n",
        "        return conv8\n",
        "\n",
        "    def build_model(self):\n",
        "        inputs = Input(self.input_shape)\n",
        "        conv1, conv2, conv3, conv4, encoded = self.encoder(inputs)\n",
        "       \n",
        "        decoded = self.decoder(conv1, conv2, conv3, conv4, encoded)\n",
        "\n",
        "        # Final Convolution layer to output the segmentation map. \n",
        "        # It has only one filter because the output is a binary mask.\n",
        "        outputs = Conv2D(1, (1, 1), activation='sigmoid')(decoded)\n",
        "\n",
        "        return Model(inputs=inputs, outputs=outputs)\n",
        "\n",
        "    def compile(self, optimizer='adam', loss='binary_crossentropy'):\n",
        "        # The compile function is used to configure the learning process. \n",
        "        # The optimizer is the search technique used to update the weights in your model. \n",
        "        # Adam is a common choice. The loss function is used to measure the model's performance. \n",
        "        # Binary cross entropy is a common choice for binary classification problems, \n",
        "        # like ours, where each pixel is classified as either part of the object or part of the background.\n",
        "        self.model.compile(optimizer=optimizer, loss=loss)\n",
        "\n",
        "    def train(self, x, y, epochs=10, batch_size=32, validation_split=0.1):\n",
        "        # The train function is used to train the model for a fixed number of epochs (iterations on a dataset). \n",
        "        # x is the input images, y is the target masks. \n",
        "        # The batch size is the number of samples per gradient update. \n",
        "        # Validation split fraction of the data to use as validation data.\n",
        "        self.model.fit(x, y, epochs=epochs, batch_size=batch_size, validation_split=validation_split)\n",
        "\n",
        "    def predict(self, x):\n",
        "        # The predict function generates output predictions for the input samples.\n",
        "        return self.model.predict(x)\n"
      ]
    }
  ],
  "metadata": {
    "accelerator": "GPU",
    "colab": {
      "collapsed_sections": [
        "-kuIl4f6pBQ6",
        "U8AViHPZuTbB",
        "bA1C6pktuQAv"
      ],
      "machine_shape": "hm",
      "provenance": []
    },
    "gpuClass": "standard",
    "kernelspec": {
      "display_name": "Python 3",
      "name": "python3"
    },
    "language_info": {
      "name": "python"
    }
  },
  "nbformat": 4,
  "nbformat_minor": 0
}