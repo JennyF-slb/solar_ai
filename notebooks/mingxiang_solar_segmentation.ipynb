{
  "cells": [
    {
      "cell_type": "code",
      "source": [
        "## Create Colab Notebook folder\n",
        "from google.colab import drive\n",
        "drive.mount('/gdrive')\n",
        "!ln -s \"/gdrive/My Drive/Colab Notebooks\" \"/content/Colab Notebooks\"\n",
        "\n",
        "# Put Colab in the context of the project\n",
        "import os\n",
        "# os.chdir allows you to change directories, like cd in the Terminal\n",
        "os.chdir('/content/Colab Notebooks/AerialImageDataset')"
      ],
      "metadata": {
        "id": "xHEwCstUL-Ge",
        "outputId": "2baf3742-6d41-4f1b-d7b9-fc35d4453a2f",
        "colab": {
          "base_uri": "https://localhost:8080/"
        }
      },
      "execution_count": 15,
      "outputs": [
        {
          "output_type": "stream",
          "name": "stdout",
          "text": [
            "Drive already mounted at /gdrive; to attempt to forcibly remount, call drive.mount(\"/gdrive\", force_remount=True).\n"
          ]
        }
      ]
    },
    {
      "cell_type": "code",
      "source": [
        "%cd /content/Colab Notebooks\n",
        "!git clone https://github.com/JennyF-slb/solar_ai.git\n",
        "%cd /content/Colab Notebooks/solar_ai\n",
        "!pip install -r minimal_requirements.txt"
      ],
      "metadata": {
        "id": "6K3W984BJ22I",
        "outputId": "1bfaf17f-cdd0-4fc6-a7ee-f282bb710a44",
        "colab": {
          "base_uri": "https://localhost:8080/"
        }
      },
      "execution_count": 16,
      "outputs": [
        {
          "output_type": "stream",
          "name": "stdout",
          "text": [
            "/gdrive/My Drive/Colab Notebooks\n",
            "fatal: destination path 'solar_ai' already exists and is not an empty directory.\n",
            "/gdrive/My Drive/Colab Notebooks/solar_ai\n",
            "Looking in indexes: https://pypi.org/simple, https://us-python.pkg.dev/colab-wheels/public/simple/\n",
            "Requirement already satisfied: pytest in /usr/local/lib/python3.10/dist-packages (from -r minimal_requirements.txt (line 1)) (7.2.2)\n",
            "Requirement already satisfied: pylint in /usr/local/lib/python3.10/dist-packages (from -r minimal_requirements.txt (line 2)) (2.17.4)\n",
            "Requirement already satisfied: ipdb in /usr/local/lib/python3.10/dist-packages (from -r minimal_requirements.txt (line 3)) (0.13.13)\n",
            "Requirement already satisfied: jupyterlab in /usr/local/lib/python3.10/dist-packages (from -r minimal_requirements.txt (line 4)) (4.0.0)\n",
            "Requirement already satisfied: numpy in /usr/local/lib/python3.10/dist-packages (from -r minimal_requirements.txt (line 5)) (1.22.4)\n",
            "Requirement already satisfied: pandas in /usr/local/lib/python3.10/dist-packages (from -r minimal_requirements.txt (line 6)) (1.5.3)\n",
            "Requirement already satisfied: matplotlib in /usr/local/lib/python3.10/dist-packages (from -r minimal_requirements.txt (line 7)) (3.7.1)\n",
            "Requirement already satisfied: seaborn in /usr/local/lib/python3.10/dist-packages (from -r minimal_requirements.txt (line 8)) (0.12.2)\n",
            "Requirement already satisfied: scikit-learn in /usr/local/lib/python3.10/dist-packages (from -r minimal_requirements.txt (line 9)) (1.2.2)\n",
            "Requirement already satisfied: attrs>=19.2.0 in /usr/local/lib/python3.10/dist-packages (from pytest->-r minimal_requirements.txt (line 1)) (23.1.0)\n",
            "Requirement already satisfied: iniconfig in /usr/local/lib/python3.10/dist-packages (from pytest->-r minimal_requirements.txt (line 1)) (2.0.0)\n",
            "Requirement already satisfied: packaging in /usr/local/lib/python3.10/dist-packages (from pytest->-r minimal_requirements.txt (line 1)) (23.1)\n",
            "Requirement already satisfied: pluggy<2.0,>=0.12 in /usr/local/lib/python3.10/dist-packages (from pytest->-r minimal_requirements.txt (line 1)) (1.0.0)\n",
            "Requirement already satisfied: exceptiongroup>=1.0.0rc8 in /usr/local/lib/python3.10/dist-packages (from pytest->-r minimal_requirements.txt (line 1)) (1.1.1)\n",
            "Requirement already satisfied: tomli>=1.0.0 in /usr/local/lib/python3.10/dist-packages (from pytest->-r minimal_requirements.txt (line 1)) (2.0.1)\n",
            "Requirement already satisfied: platformdirs>=2.2.0 in /usr/local/lib/python3.10/dist-packages (from pylint->-r minimal_requirements.txt (line 2)) (3.3.0)\n",
            "Requirement already satisfied: astroid<=2.17.0-dev0,>=2.15.4 in /usr/local/lib/python3.10/dist-packages (from pylint->-r minimal_requirements.txt (line 2)) (2.15.5)\n",
            "Requirement already satisfied: isort<6,>=4.2.5 in /usr/local/lib/python3.10/dist-packages (from pylint->-r minimal_requirements.txt (line 2)) (5.12.0)\n",
            "Requirement already satisfied: mccabe<0.8,>=0.6 in /usr/local/lib/python3.10/dist-packages (from pylint->-r minimal_requirements.txt (line 2)) (0.7.0)\n",
            "Requirement already satisfied: tomlkit>=0.10.1 in /usr/local/lib/python3.10/dist-packages (from pylint->-r minimal_requirements.txt (line 2)) (0.11.8)\n",
            "Requirement already satisfied: dill>=0.2 in /usr/local/lib/python3.10/dist-packages (from pylint->-r minimal_requirements.txt (line 2)) (0.3.6)\n",
            "Requirement already satisfied: ipython>=7.31.1 in /usr/local/lib/python3.10/dist-packages (from ipdb->-r minimal_requirements.txt (line 3)) (7.34.0)\n",
            "Requirement already satisfied: decorator in /usr/local/lib/python3.10/dist-packages (from ipdb->-r minimal_requirements.txt (line 3)) (4.4.2)\n",
            "Requirement already satisfied: async-lru>=1.0.0 in /usr/local/lib/python3.10/dist-packages (from jupyterlab->-r minimal_requirements.txt (line 4)) (2.0.2)\n",
            "Requirement already satisfied: ipykernel in /usr/local/lib/python3.10/dist-packages (from jupyterlab->-r minimal_requirements.txt (line 4)) (5.5.6)\n",
            "Requirement already satisfied: jinja2>=3.0.3 in /usr/local/lib/python3.10/dist-packages (from jupyterlab->-r minimal_requirements.txt (line 4)) (3.1.2)\n",
            "Requirement already satisfied: jupyter-core in /usr/local/lib/python3.10/dist-packages (from jupyterlab->-r minimal_requirements.txt (line 4)) (5.3.0)\n",
            "Requirement already satisfied: jupyter-lsp>=2.0.0 in /usr/local/lib/python3.10/dist-packages (from jupyterlab->-r minimal_requirements.txt (line 4)) (2.1.0)\n",
            "Requirement already satisfied: jupyter-server<3,>=2.4.0 in /usr/local/lib/python3.10/dist-packages (from jupyterlab->-r minimal_requirements.txt (line 4)) (2.5.0)\n",
            "Requirement already satisfied: jupyterlab-server<3,>=2.19.0 in /usr/local/lib/python3.10/dist-packages (from jupyterlab->-r minimal_requirements.txt (line 4)) (2.22.1)\n",
            "Requirement already satisfied: notebook-shim>=0.2 in /usr/local/lib/python3.10/dist-packages (from jupyterlab->-r minimal_requirements.txt (line 4)) (0.2.3)\n",
            "Requirement already satisfied: tornado>=6.2.0 in /usr/local/lib/python3.10/dist-packages (from jupyterlab->-r minimal_requirements.txt (line 4)) (6.3.1)\n",
            "Requirement already satisfied: traitlets in /usr/local/lib/python3.10/dist-packages (from jupyterlab->-r minimal_requirements.txt (line 4)) (5.7.1)\n",
            "Requirement already satisfied: python-dateutil>=2.8.1 in /usr/local/lib/python3.10/dist-packages (from pandas->-r minimal_requirements.txt (line 6)) (2.8.2)\n",
            "Requirement already satisfied: pytz>=2020.1 in /usr/local/lib/python3.10/dist-packages (from pandas->-r minimal_requirements.txt (line 6)) (2022.7.1)\n",
            "Requirement already satisfied: contourpy>=1.0.1 in /usr/local/lib/python3.10/dist-packages (from matplotlib->-r minimal_requirements.txt (line 7)) (1.0.7)\n",
            "Requirement already satisfied: cycler>=0.10 in /usr/local/lib/python3.10/dist-packages (from matplotlib->-r minimal_requirements.txt (line 7)) (0.11.0)\n",
            "Requirement already satisfied: fonttools>=4.22.0 in /usr/local/lib/python3.10/dist-packages (from matplotlib->-r minimal_requirements.txt (line 7)) (4.39.3)\n",
            "Requirement already satisfied: kiwisolver>=1.0.1 in /usr/local/lib/python3.10/dist-packages (from matplotlib->-r minimal_requirements.txt (line 7)) (1.4.4)\n",
            "Requirement already satisfied: pillow>=6.2.0 in /usr/local/lib/python3.10/dist-packages (from matplotlib->-r minimal_requirements.txt (line 7)) (8.4.0)\n",
            "Requirement already satisfied: pyparsing>=2.3.1 in /usr/local/lib/python3.10/dist-packages (from matplotlib->-r minimal_requirements.txt (line 7)) (3.0.9)\n",
            "Requirement already satisfied: scipy>=1.3.2 in /usr/local/lib/python3.10/dist-packages (from scikit-learn->-r minimal_requirements.txt (line 9)) (1.10.1)\n",
            "Requirement already satisfied: joblib>=1.1.1 in /usr/local/lib/python3.10/dist-packages (from scikit-learn->-r minimal_requirements.txt (line 9)) (1.2.0)\n",
            "Requirement already satisfied: threadpoolctl>=2.0.0 in /usr/local/lib/python3.10/dist-packages (from scikit-learn->-r minimal_requirements.txt (line 9)) (3.1.0)\n",
            "Requirement already satisfied: lazy-object-proxy>=1.4.0 in /usr/local/lib/python3.10/dist-packages (from astroid<=2.17.0-dev0,>=2.15.4->pylint->-r minimal_requirements.txt (line 2)) (1.9.0)\n",
            "Requirement already satisfied: wrapt<2,>=1.11 in /usr/local/lib/python3.10/dist-packages (from astroid<=2.17.0-dev0,>=2.15.4->pylint->-r minimal_requirements.txt (line 2)) (1.14.1)\n",
            "Requirement already satisfied: typing-extensions>=4.0.0 in /usr/local/lib/python3.10/dist-packages (from astroid<=2.17.0-dev0,>=2.15.4->pylint->-r minimal_requirements.txt (line 2)) (4.5.0)\n",
            "Requirement already satisfied: setuptools>=18.5 in /usr/local/lib/python3.10/dist-packages (from ipython>=7.31.1->ipdb->-r minimal_requirements.txt (line 3)) (67.7.2)\n",
            "Requirement already satisfied: jedi>=0.16 in /usr/local/lib/python3.10/dist-packages (from ipython>=7.31.1->ipdb->-r minimal_requirements.txt (line 3)) (0.18.2)\n",
            "Requirement already satisfied: pickleshare in /usr/local/lib/python3.10/dist-packages (from ipython>=7.31.1->ipdb->-r minimal_requirements.txt (line 3)) (0.7.5)\n",
            "Requirement already satisfied: prompt-toolkit!=3.0.0,!=3.0.1,<3.1.0,>=2.0.0 in /usr/local/lib/python3.10/dist-packages (from ipython>=7.31.1->ipdb->-r minimal_requirements.txt (line 3)) (3.0.38)\n",
            "Requirement already satisfied: pygments in /usr/local/lib/python3.10/dist-packages (from ipython>=7.31.1->ipdb->-r minimal_requirements.txt (line 3)) (2.14.0)\n",
            "Requirement already satisfied: backcall in /usr/local/lib/python3.10/dist-packages (from ipython>=7.31.1->ipdb->-r minimal_requirements.txt (line 3)) (0.2.0)\n",
            "Requirement already satisfied: matplotlib-inline in /usr/local/lib/python3.10/dist-packages (from ipython>=7.31.1->ipdb->-r minimal_requirements.txt (line 3)) (0.1.6)\n",
            "Requirement already satisfied: pexpect>4.3 in /usr/local/lib/python3.10/dist-packages (from ipython>=7.31.1->ipdb->-r minimal_requirements.txt (line 3)) (4.8.0)\n",
            "Requirement already satisfied: MarkupSafe>=2.0 in /usr/local/lib/python3.10/dist-packages (from jinja2>=3.0.3->jupyterlab->-r minimal_requirements.txt (line 4)) (2.1.2)\n",
            "Requirement already satisfied: anyio>=3.1.0 in /usr/local/lib/python3.10/dist-packages (from jupyter-server<3,>=2.4.0->jupyterlab->-r minimal_requirements.txt (line 4)) (3.6.2)\n",
            "Requirement already satisfied: argon2-cffi in /usr/local/lib/python3.10/dist-packages (from jupyter-server<3,>=2.4.0->jupyterlab->-r minimal_requirements.txt (line 4)) (21.3.0)\n",
            "Requirement already satisfied: jupyter-client>=7.4.4 in /usr/local/lib/python3.10/dist-packages (from jupyter-server<3,>=2.4.0->jupyterlab->-r minimal_requirements.txt (line 4)) (8.2.0)\n",
            "Requirement already satisfied: jupyter-events>=0.4.0 in /usr/local/lib/python3.10/dist-packages (from jupyter-server<3,>=2.4.0->jupyterlab->-r minimal_requirements.txt (line 4)) (0.6.3)\n",
            "Requirement already satisfied: jupyter-server-terminals in /usr/local/lib/python3.10/dist-packages (from jupyter-server<3,>=2.4.0->jupyterlab->-r minimal_requirements.txt (line 4)) (0.4.4)\n",
            "Requirement already satisfied: nbconvert>=6.4.4 in /usr/local/lib/python3.10/dist-packages (from jupyter-server<3,>=2.4.0->jupyterlab->-r minimal_requirements.txt (line 4)) (6.5.4)\n",
            "Requirement already satisfied: nbformat>=5.3.0 in /usr/local/lib/python3.10/dist-packages (from jupyter-server<3,>=2.4.0->jupyterlab->-r minimal_requirements.txt (line 4)) (5.8.0)\n",
            "Requirement already satisfied: prometheus-client in /usr/local/lib/python3.10/dist-packages (from jupyter-server<3,>=2.4.0->jupyterlab->-r minimal_requirements.txt (line 4)) (0.16.0)\n",
            "Requirement already satisfied: pyzmq>=24 in /usr/local/lib/python3.10/dist-packages (from jupyter-server<3,>=2.4.0->jupyterlab->-r minimal_requirements.txt (line 4)) (25.0.2)\n",
            "Requirement already satisfied: send2trash in /usr/local/lib/python3.10/dist-packages (from jupyter-server<3,>=2.4.0->jupyterlab->-r minimal_requirements.txt (line 4)) (1.8.0)\n",
            "Requirement already satisfied: terminado>=0.8.3 in /usr/local/lib/python3.10/dist-packages (from jupyter-server<3,>=2.4.0->jupyterlab->-r minimal_requirements.txt (line 4)) (0.17.1)\n",
            "Requirement already satisfied: websocket-client in /usr/local/lib/python3.10/dist-packages (from jupyter-server<3,>=2.4.0->jupyterlab->-r minimal_requirements.txt (line 4)) (1.5.1)\n",
            "Requirement already satisfied: babel>=2.10 in /usr/local/lib/python3.10/dist-packages (from jupyterlab-server<3,>=2.19.0->jupyterlab->-r minimal_requirements.txt (line 4)) (2.12.1)\n",
            "Requirement already satisfied: json5>=0.9.0 in /usr/local/lib/python3.10/dist-packages (from jupyterlab-server<3,>=2.19.0->jupyterlab->-r minimal_requirements.txt (line 4)) (0.9.14)\n",
            "Requirement already satisfied: jsonschema>=4.17.3 in /usr/local/lib/python3.10/dist-packages (from jupyterlab-server<3,>=2.19.0->jupyterlab->-r minimal_requirements.txt (line 4)) (4.17.3)\n",
            "Requirement already satisfied: requests>=2.28 in /usr/local/lib/python3.10/dist-packages (from jupyterlab-server<3,>=2.19.0->jupyterlab->-r minimal_requirements.txt (line 4)) (2.30.0)\n",
            "Requirement already satisfied: six>=1.5 in /usr/local/lib/python3.10/dist-packages (from python-dateutil>=2.8.1->pandas->-r minimal_requirements.txt (line 6)) (1.16.0)\n",
            "Requirement already satisfied: ipython-genutils in /usr/local/lib/python3.10/dist-packages (from ipykernel->jupyterlab->-r minimal_requirements.txt (line 4)) (0.2.0)\n",
            "Requirement already satisfied: idna>=2.8 in /usr/local/lib/python3.10/dist-packages (from anyio>=3.1.0->jupyter-server<3,>=2.4.0->jupyterlab->-r minimal_requirements.txt (line 4)) (3.4)\n",
            "Requirement already satisfied: sniffio>=1.1 in /usr/local/lib/python3.10/dist-packages (from anyio>=3.1.0->jupyter-server<3,>=2.4.0->jupyterlab->-r minimal_requirements.txt (line 4)) (1.3.0)\n",
            "Requirement already satisfied: parso<0.9.0,>=0.8.0 in /usr/local/lib/python3.10/dist-packages (from jedi>=0.16->ipython>=7.31.1->ipdb->-r minimal_requirements.txt (line 3)) (0.8.3)\n",
            "Requirement already satisfied: pyrsistent!=0.17.0,!=0.17.1,!=0.17.2,>=0.14.0 in /usr/local/lib/python3.10/dist-packages (from jsonschema>=4.17.3->jupyterlab-server<3,>=2.19.0->jupyterlab->-r minimal_requirements.txt (line 4)) (0.19.3)\n",
            "Requirement already satisfied: python-json-logger>=2.0.4 in /usr/local/lib/python3.10/dist-packages (from jupyter-events>=0.4.0->jupyter-server<3,>=2.4.0->jupyterlab->-r minimal_requirements.txt (line 4)) (2.0.7)\n",
            "Requirement already satisfied: pyyaml>=5.3 in /usr/local/lib/python3.10/dist-packages (from jupyter-events>=0.4.0->jupyter-server<3,>=2.4.0->jupyterlab->-r minimal_requirements.txt (line 4)) (6.0)\n",
            "Requirement already satisfied: rfc3339-validator in /usr/local/lib/python3.10/dist-packages (from jupyter-events>=0.4.0->jupyter-server<3,>=2.4.0->jupyterlab->-r minimal_requirements.txt (line 4)) (0.1.4)\n",
            "Requirement already satisfied: rfc3986-validator>=0.1.1 in /usr/local/lib/python3.10/dist-packages (from jupyter-events>=0.4.0->jupyter-server<3,>=2.4.0->jupyterlab->-r minimal_requirements.txt (line 4)) (0.1.1)\n",
            "Requirement already satisfied: lxml in /usr/local/lib/python3.10/dist-packages (from nbconvert>=6.4.4->jupyter-server<3,>=2.4.0->jupyterlab->-r minimal_requirements.txt (line 4)) (4.9.2)\n",
            "Requirement already satisfied: beautifulsoup4 in /usr/local/lib/python3.10/dist-packages (from nbconvert>=6.4.4->jupyter-server<3,>=2.4.0->jupyterlab->-r minimal_requirements.txt (line 4)) (4.11.2)\n",
            "Requirement already satisfied: bleach in /usr/local/lib/python3.10/dist-packages (from nbconvert>=6.4.4->jupyter-server<3,>=2.4.0->jupyterlab->-r minimal_requirements.txt (line 4)) (6.0.0)\n",
            "Requirement already satisfied: defusedxml in /usr/local/lib/python3.10/dist-packages (from nbconvert>=6.4.4->jupyter-server<3,>=2.4.0->jupyterlab->-r minimal_requirements.txt (line 4)) (0.7.1)\n",
            "Requirement already satisfied: entrypoints>=0.2.2 in /usr/local/lib/python3.10/dist-packages (from nbconvert>=6.4.4->jupyter-server<3,>=2.4.0->jupyterlab->-r minimal_requirements.txt (line 4)) (0.4)\n",
            "Requirement already satisfied: jupyterlab-pygments in /usr/local/lib/python3.10/dist-packages (from nbconvert>=6.4.4->jupyter-server<3,>=2.4.0->jupyterlab->-r minimal_requirements.txt (line 4)) (0.2.2)\n",
            "Requirement already satisfied: mistune<2,>=0.8.1 in /usr/local/lib/python3.10/dist-packages (from nbconvert>=6.4.4->jupyter-server<3,>=2.4.0->jupyterlab->-r minimal_requirements.txt (line 4)) (0.8.4)\n",
            "Requirement already satisfied: nbclient>=0.5.0 in /usr/local/lib/python3.10/dist-packages (from nbconvert>=6.4.4->jupyter-server<3,>=2.4.0->jupyterlab->-r minimal_requirements.txt (line 4)) (0.7.4)\n",
            "Requirement already satisfied: pandocfilters>=1.4.1 in /usr/local/lib/python3.10/dist-packages (from nbconvert>=6.4.4->jupyter-server<3,>=2.4.0->jupyterlab->-r minimal_requirements.txt (line 4)) (1.5.0)\n",
            "Requirement already satisfied: tinycss2 in /usr/local/lib/python3.10/dist-packages (from nbconvert>=6.4.4->jupyter-server<3,>=2.4.0->jupyterlab->-r minimal_requirements.txt (line 4)) (1.2.1)\n",
            "Requirement already satisfied: fastjsonschema in /usr/local/lib/python3.10/dist-packages (from nbformat>=5.3.0->jupyter-server<3,>=2.4.0->jupyterlab->-r minimal_requirements.txt (line 4)) (2.16.3)\n",
            "Requirement already satisfied: ptyprocess>=0.5 in /usr/local/lib/python3.10/dist-packages (from pexpect>4.3->ipython>=7.31.1->ipdb->-r minimal_requirements.txt (line 3)) (0.7.0)\n",
            "Requirement already satisfied: wcwidth in /usr/local/lib/python3.10/dist-packages (from prompt-toolkit!=3.0.0,!=3.0.1,<3.1.0,>=2.0.0->ipython>=7.31.1->ipdb->-r minimal_requirements.txt (line 3)) (0.2.6)\n",
            "Requirement already satisfied: charset-normalizer<4,>=2 in /usr/local/lib/python3.10/dist-packages (from requests>=2.28->jupyterlab-server<3,>=2.19.0->jupyterlab->-r minimal_requirements.txt (line 4)) (2.0.12)\n",
            "Requirement already satisfied: urllib3<3,>=1.21.1 in /usr/local/lib/python3.10/dist-packages (from requests>=2.28->jupyterlab-server<3,>=2.19.0->jupyterlab->-r minimal_requirements.txt (line 4)) (1.26.15)\n",
            "Requirement already satisfied: certifi>=2017.4.17 in /usr/local/lib/python3.10/dist-packages (from requests>=2.28->jupyterlab-server<3,>=2.19.0->jupyterlab->-r minimal_requirements.txt (line 4)) (2022.12.7)\n",
            "Requirement already satisfied: argon2-cffi-bindings in /usr/local/lib/python3.10/dist-packages (from argon2-cffi->jupyter-server<3,>=2.4.0->jupyterlab->-r minimal_requirements.txt (line 4)) (21.2.0)\n",
            "Requirement already satisfied: fqdn in /usr/local/lib/python3.10/dist-packages (from jsonschema>=4.17.3->jupyterlab-server<3,>=2.19.0->jupyterlab->-r minimal_requirements.txt (line 4)) (1.5.1)\n",
            "Requirement already satisfied: isoduration in /usr/local/lib/python3.10/dist-packages (from jsonschema>=4.17.3->jupyterlab-server<3,>=2.19.0->jupyterlab->-r minimal_requirements.txt (line 4)) (20.11.0)\n",
            "Requirement already satisfied: jsonpointer>1.13 in /usr/local/lib/python3.10/dist-packages (from jsonschema>=4.17.3->jupyterlab-server<3,>=2.19.0->jupyterlab->-r minimal_requirements.txt (line 4)) (2.3)\n",
            "Requirement already satisfied: uri-template in /usr/local/lib/python3.10/dist-packages (from jsonschema>=4.17.3->jupyterlab-server<3,>=2.19.0->jupyterlab->-r minimal_requirements.txt (line 4)) (1.2.0)\n",
            "Requirement already satisfied: webcolors>=1.11 in /usr/local/lib/python3.10/dist-packages (from jsonschema>=4.17.3->jupyterlab-server<3,>=2.19.0->jupyterlab->-r minimal_requirements.txt (line 4)) (1.13)\n",
            "Requirement already satisfied: cffi>=1.0.1 in /usr/local/lib/python3.10/dist-packages (from argon2-cffi-bindings->argon2-cffi->jupyter-server<3,>=2.4.0->jupyterlab->-r minimal_requirements.txt (line 4)) (1.15.1)\n",
            "Requirement already satisfied: soupsieve>1.2 in /usr/local/lib/python3.10/dist-packages (from beautifulsoup4->nbconvert>=6.4.4->jupyter-server<3,>=2.4.0->jupyterlab->-r minimal_requirements.txt (line 4)) (2.4.1)\n",
            "Requirement already satisfied: webencodings in /usr/local/lib/python3.10/dist-packages (from bleach->nbconvert>=6.4.4->jupyter-server<3,>=2.4.0->jupyterlab->-r minimal_requirements.txt (line 4)) (0.5.1)\n",
            "Requirement already satisfied: pycparser in /usr/local/lib/python3.10/dist-packages (from cffi>=1.0.1->argon2-cffi-bindings->argon2-cffi->jupyter-server<3,>=2.4.0->jupyterlab->-r minimal_requirements.txt (line 4)) (2.21)\n",
            "Requirement already satisfied: arrow>=0.15.0 in /usr/local/lib/python3.10/dist-packages (from isoduration->jsonschema>=4.17.3->jupyterlab-server<3,>=2.19.0->jupyterlab->-r minimal_requirements.txt (line 4)) (1.2.3)\n"
          ]
        }
      ]
    },
    {
      "cell_type": "markdown",
      "source": [
        "# 1. Import Libraries"
      ],
      "metadata": {
        "id": "vrGHo65P2KIZ"
      }
    },
    {
      "cell_type": "code",
      "execution_count": 5,
      "metadata": {
        "id": "Bt_kbvzO2JM7"
      },
      "outputs": [],
      "source": [
        "import os\n",
        "import numpy as np\n",
        "import matplotlib.pyplot as plt\n",
        "import seaborn as sns\n",
        "import tensorflow as tf"
      ]
    },
    {
      "cell_type": "markdown",
      "source": [
        "# 2. Seeding"
      ],
      "metadata": {
        "id": "BwGjZv_k2616"
      }
    },
    {
      "cell_type": "code",
      "execution_count": null,
      "metadata": {
        "id": "Mv4Us9yP2JM8"
      },
      "outputs": [],
      "source": [
        "os.environ[\"PYTHONHASHSEED\"] = str(42)\n",
        "np.random.seed(42)\n",
        "tf.random.set_seed(42)"
      ]
    },
    {
      "cell_type": "markdown",
      "metadata": {
        "id": "lF30Tgd32JM8"
      },
      "source": [
        "# 3. Hyperparameters"
      ]
    },
    {
      "cell_type": "code",
      "execution_count": null,
      "metadata": {
        "id": "3muLRROu2JM9"
      },
      "outputs": [],
      "source": [
        "batch_size = xx\n",
        "lr = xx\n",
        "epochs = xx \n",
        "height =  xx\n",
        "width = xx"
      ]
    },
    {
      "cell_type": "markdown",
      "metadata": {
        "id": "aom8CpRc2JM9"
      },
      "source": [
        "# 4. Set Data Path"
      ]
    },
    {
      "cell_type": "code",
      "source": [],
      "metadata": {
        "id": "r4wLW3Fw8nC-"
      },
      "execution_count": 3,
      "outputs": []
    },
    {
      "cell_type": "code",
      "execution_count": null,
      "metadata": {
        "id": "THbqB7Gn2JM9"
      },
      "outputs": [],
      "source": [
        "dataset_path = xx\n",
        "files_dir = xx\n",
        "model_file = xx\n",
        "log_file = xx"
      ]
    },
    {
      "cell_type": "markdown",
      "metadata": {
        "id": "X4Ec4BvL2JM9"
      },
      "source": [
        "# 5. Creating Folder"
      ]
    },
    {
      "cell_type": "code",
      "execution_count": null,
      "metadata": {
        "id": "FechyAJu2JM9"
      },
      "outputs": [],
      "source": []
    },
    {
      "cell_type": "markdown",
      "metadata": {
        "id": "UUDjv0rv2JM9"
      },
      "source": [
        "# 6. Data Pipeline\n",
        "\n",
        "-- Read image and mask \n",
        "\n",
        "-- Define train and test dataset \n",
        "\n",
        "-- Load as numpy tensor \n",
        "\n",
        "-- make it to train, test dataloader \n"
      ]
    },
    {
      "cell_type": "code",
      "execution_count": null,
      "metadata": {
        "id": "4H-cLr3r2JM9"
      },
      "outputs": [],
      "source": []
    },
    {
      "cell_type": "markdown",
      "metadata": {
        "id": "Uz0ryJcg2JM9"
      },
      "source": [
        "# 7. Data Visualization / EDA"
      ]
    },
    {
      "cell_type": "code",
      "execution_count": null,
      "metadata": {
        "id": "5e5WhDmx2JM9"
      },
      "outputs": [],
      "source": []
    },
    {
      "cell_type": "code",
      "execution_count": null,
      "metadata": {
        "id": "H9MazYRk2JM9"
      },
      "outputs": [],
      "source": []
    },
    {
      "cell_type": "markdown",
      "metadata": {
        "id": "AryPobnF2JM9"
      },
      "source": [
        "# 8. Data Augmentation - To handle imbalance class\n",
        "\n",
        "-- VFlip, HFlip, Rotation, RandomCrop, ....(To research) \n",
        "\n",
        "-- Check if need to apply GAN / Diffusion model to generate synthetic data"
      ]
    },
    {
      "cell_type": "code",
      "execution_count": null,
      "metadata": {
        "id": "aK8JSyW72JM-"
      },
      "outputs": [],
      "source": []
    },
    {
      "cell_type": "markdown",
      "metadata": {
        "id": "ubffZ_lz2JM-"
      },
      "source": [
        "# 9. Data Preparation for model training\n",
        "\n",
        "-- Check need apply image patching with overlap\n",
        "\n",
        "-- Define input image & label (match dimension)\n",
        "\n",
        "-- Data normalization (check to apply global / local mean)\n",
        "\n",
        "-- Define loader (train, test data loader)"
      ]
    },
    {
      "cell_type": "code",
      "execution_count": null,
      "metadata": {
        "id": "a0FZOL4U2JM-"
      },
      "outputs": [],
      "source": []
    },
    {
      "cell_type": "markdown",
      "metadata": {
        "id": "r6azyGqd2JM-"
      },
      "source": [
        "# 10. Define Model (-- Need handle imbalance class)"
      ]
    },
    {
      "cell_type": "markdown",
      "metadata": {
        "id": "xDdgCHDw2JM-"
      },
      "source": [
        "## 10.1 Base Model"
      ]
    },
    {
      "cell_type": "code",
      "execution_count": null,
      "metadata": {
        "id": "IVhrUukd2JM-"
      },
      "outputs": [],
      "source": []
    },
    {
      "cell_type": "markdown",
      "metadata": {
        "id": "WBeKL8Xe2JM-"
      },
      "source": [
        "## 10.2 Unet"
      ]
    },
    {
      "cell_type": "code",
      "execution_count": null,
      "metadata": {
        "id": "-tRuS5hr2JM-"
      },
      "outputs": [],
      "source": [
        "## Convolution Layer\n",
        "\n",
        "def conv2d_block (input_tensor, n_filters, kernel_size =3):\n",
        "    x = input_tensor\n",
        "    for i in range(2):\n",
        "        x = tf.keras.layers.Conv2D(filters = n_filters,\n",
        "                                   kernel_size = (kernel_size, kernel_size))(x)\n",
        "        ## can add batch normalization to speed up training and make learning easier\n",
        "        # x = tf. BatchNormalization\n",
        "        x = tf.keras.layers.Activation('relu')(x)\n",
        "\n",
        "    return x "
      ]
    },
    {
      "cell_type": "code",
      "execution_count": null,
      "metadata": {
        "id": "E2h60-M72JM-"
      },
      "outputs": [],
      "source": [
        "## Encoder block\n",
        "\n",
        "def encoder_block(inputs, n_filters, pool_size, dropout):\n",
        "    f = conv2d_block(inputs, n_filters=n_filters)\n",
        "    p = tf.keras.layers.MaxPooling2D(pool_size)(f)\n",
        "    p = tf.keras.layers.Dropout(dropout)(p)\n",
        "    \n",
        "    return f,p"
      ]
    },
    {
      "cell_type": "code",
      "execution_count": null,
      "metadata": {
        "id": "0bU1_BS22JM-"
      },
      "outputs": [],
      "source": [
        "## Calling encoder\n",
        "\n",
        "def encoder(inputs):\n",
        "    f1, p1 = encoder_block(inputs, n_filters=64, pool_size=(2,2), dropout=0.3)\n",
        "    f2, p2 = encoder_block(p1, n_filters=128, pool_size=(2,2), dropout=0.3)\n",
        "    f3, p3 = encoder_block(p2, n_filters=256, pool_size=(2,2), dropout=0.3)\n",
        "    f4, p4 = encoder_block(p3, n_filters=512, pool_size=(2,2), dropout=0.3)\n",
        "    \n",
        "    return p4, (f1, f2, f3, f4)"
      ]
    },
    {
      "cell_type": "code",
      "execution_count": null,
      "metadata": {
        "id": "hBzn_Ctb2JM-"
      },
      "outputs": [],
      "source": [
        "def bottleneck (inputs):\n",
        "    bottle_neck = conv2d_block(inputs, n_filters=1024)\n",
        "    \n",
        "    return bottle_neck"
      ]
    },
    {
      "cell_type": "code",
      "execution_count": null,
      "metadata": {
        "id": "o20CPAnz2JM_"
      },
      "outputs": [],
      "source": [
        "## decoder block\n",
        "\n",
        "def decoder_block (inputs, conv_output, n_filters, kernel_size, strides, dropout):\n",
        "    u = tf.keras.layers.Conv2DTranspose(n_filters, kernel_size, strides=strides, padding='same')(inputs)\n",
        "    c = tf.keras.layers.concatenate([u, conv_output]) ## skip connection\n",
        "    c = tf.keras.layers.Dropout(dropout)(c)\n",
        "    c = conv2d_block(c, n_filters, kernel_size=3)\n",
        "    \n",
        "    return c"
      ]
    },
    {
      "cell_type": "code",
      "execution_count": null,
      "metadata": {
        "id": "DkXbheTF2JM_"
      },
      "outputs": [],
      "source": [
        "## calling decoder\n",
        "\n",
        "def decoder(inputs, convs):\n",
        "    f1, f2, f3, f4 = convs\n",
        "    \n",
        "    c6 = decoder_block(inputs. f4, n_filters=512, kernel_size=(3,3), strides=(2,2), dropout=0.3)\n",
        "    c7 = decoder_block(c6, f3, n_filters=256, kernel_size=(3,3), strides=(2,2), dropout=0.3)\n",
        "    c8 = decoder_block(c7, f2, n_filters=128, kernel_size=(3,3), strides=(2,2), dropout=0.3)\n",
        "    c9 = decoder_block(c8, f1, n_filters=64, kernel_size=(3,3), strides=(2,2), dropout=0.3)\n",
        "    \n",
        "    outputs = tf.keras.layers.Conv2D(3,(1,1), activation='softmax')(c9)  ## 3 because we have 3 classes\n",
        "    \n",
        "    return outputs\n",
        "    "
      ]
    },
    {
      "cell_type": "code",
      "execution_count": null,
      "metadata": {
        "id": "Df3M8Wke2JM_"
      },
      "outputs": [],
      "source": [
        "## unet model\n",
        "\n",
        "def unet():\n",
        "    inputs = tf.keras.layers.Input(shape=(128,128,3)) ## height x width x channel size\n",
        "    encoder_output , convs =  encoder(input)\n",
        "    \n",
        "    bottle_neck = bottleneck(encoder_output)\n",
        "\n",
        "    outputs = decoder(bottle_neck, convs)\n",
        "    model = tf.keras.Model(inputs = inputs, outputs = outputs)\n",
        "    \n",
        "    return model"
      ]
    },
    {
      "cell_type": "markdown",
      "metadata": {
        "id": "PbuKvOfH2JM_"
      },
      "source": [
        "## 10.3 Segformer"
      ]
    },
    {
      "cell_type": "code",
      "execution_count": null,
      "metadata": {
        "id": "YV2M-Bu52JM_"
      },
      "outputs": [],
      "source": []
    },
    {
      "cell_type": "markdown",
      "metadata": {
        "id": "YsZuxGyF2JM_"
      },
      "source": [
        "# 11. Model Training (Cross Validation 5 fold)"
      ]
    },
    {
      "cell_type": "markdown",
      "source": [
        "# 12. Model Evalution (Loss Function)\n"
      ],
      "metadata": {
        "id": "68_mT6UCrlLr"
      }
    },
    {
      "cell_type": "code",
      "execution_count": null,
      "metadata": {
        "id": "uEz19G5G2JM_"
      },
      "outputs": [],
      "source": []
    },
    {
      "cell_type": "markdown",
      "metadata": {
        "id": "QeHnsZ882JM_"
      },
      "source": [
        "# 13. Callback - to save the model checkpoint"
      ]
    },
    {
      "cell_type": "code",
      "execution_count": null,
      "metadata": {
        "id": "XHjifYeh2JM_"
      },
      "outputs": [],
      "source": []
    },
    {
      "cell_type": "markdown",
      "metadata": {
        "id": "IvxH9ZyO2JM_"
      },
      "source": [
        "# 14. Model Interpretation (Class Activation Map)"
      ]
    },
    {
      "cell_type": "markdown",
      "source": [
        "### 14.1 Gradient CAM, Salient Map\n",
        "\n"
      ],
      "metadata": {
        "id": "NoAcLi5Dqf4U"
      }
    },
    {
      "cell_type": "code",
      "execution_count": null,
      "metadata": {
        "id": "UajsdzrS2JM_"
      },
      "outputs": [],
      "source": []
    },
    {
      "cell_type": "markdown",
      "metadata": {
        "id": "DHtXMgFb2JNA"
      },
      "source": [
        "# 15. Model Prediction/ Inference"
      ]
    },
    {
      "cell_type": "code",
      "execution_count": null,
      "metadata": {
        "id": "2z8k9v6z2JNA"
      },
      "outputs": [],
      "source": []
    },
    {
      "cell_type": "code",
      "execution_count": null,
      "metadata": {
        "id": "igpVEH8O2JNA"
      },
      "outputs": [],
      "source": []
    }
  ],
  "metadata": {
    "kernelspec": {
      "display_name": ".venv",
      "language": "python",
      "name": "python3"
    },
    "language_info": {
      "codemirror_mode": {
        "name": "ipython",
        "version": 3
      },
      "file_extension": ".py",
      "mimetype": "text/x-python",
      "name": "python",
      "nbconvert_exporter": "python",
      "pygments_lexer": "ipython3",
      "version": "3.8.3"
    },
    "orig_nbformat": 4,
    "colab": {
      "provenance": [],
      "toc_visible": true
    }
  },
  "nbformat": 4,
  "nbformat_minor": 0
}